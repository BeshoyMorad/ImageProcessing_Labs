{
 "cells": [
  {
   "cell_type": "code",
   "execution_count": 2,
   "metadata": {},
   "outputs": [],
   "source": [
    "from skimage import data, color, util\n",
    "from skimage.restoration import denoise_tv_chambolle\n",
    "from skimage.feature import hog\n",
    "\n",
    "def task(image):\n",
    "    \"\"\"\n",
    "    Apply some functions and return an image.\n",
    "    \"\"\"\n",
    "    image = denoise_tv_chambolle(image[0][0], weight=0.1)\n",
    "    fd, hog_image = hog(color.rgb2gray(image), orientations=8,\n",
    "                        pixels_per_cell=(16, 16), cells_per_block=(1, 1),\n",
    "                        visualize=True)\n",
    "    return hog_image\n",
    "\n",
    "\n",
    "# Prepare images\n",
    "hubble = data.hubble_deep_field()\n",
    "width = 10\n",
    "pics = util.view_as_windows(hubble, (width, hubble.shape[1], hubble.shape[2]), step=width)"
   ]
  },
  {
   "cell_type": "code",
   "execution_count": 3,
   "metadata": {},
   "outputs": [
    {
     "name": "stdout",
     "output_type": "stream",
     "text": [
      "3.86 s ± 91.1 ms per loop (mean ± std. dev. of 7 runs, 1 loop each)\n"
     ]
    }
   ],
   "source": [
    "def classic_loop():\n",
    "    for image in pics:\n",
    "        task(image)\n",
    "\n",
    "\n",
    "%timeit classic_loop()"
   ]
  },
  {
   "cell_type": "code",
   "execution_count": null,
   "metadata": {},
   "outputs": [],
   "source": [
    "def comprehension_loop():\n",
    "    [task(image) for image in pics]\n",
    "\n",
    "%timeit comprehension_loop()"
   ]
  },
  {
   "cell_type": "code",
   "execution_count": 6,
   "metadata": {},
   "outputs": [
    {
     "name": "stdout",
     "output_type": "stream",
     "text": [
      "1.48 s ± 76.6 ms per loop (mean ± std. dev. of 7 runs, 1 loop each)\n"
     ]
    }
   ],
   "source": [
    "from joblib import Parallel, delayed\n",
    "def joblib_loop():\n",
    "    Parallel(n_jobs=8)(delayed(task)(i) for i in pics)\n",
    "\n",
    "%timeit joblib_loop()"
   ]
  }
 ],
 "metadata": {
  "kernelspec": {
   "display_name": "Python 3.9.12 ('py39')",
   "language": "python",
   "name": "python3"
  },
  "language_info": {
   "codemirror_mode": {
    "name": "ipython",
    "version": 3
   },
   "file_extension": ".py",
   "mimetype": "text/x-python",
   "name": "python",
   "nbconvert_exporter": "python",
   "pygments_lexer": "ipython3",
   "version": "3.9.12"
  },
  "orig_nbformat": 4,
  "vscode": {
   "interpreter": {
    "hash": "8b7cb3eff9408597125ae058882f88ba16460fda369a0b9ade5bfac8e11378a0"
   }
  }
 },
 "nbformat": 4,
 "nbformat_minor": 2
}
