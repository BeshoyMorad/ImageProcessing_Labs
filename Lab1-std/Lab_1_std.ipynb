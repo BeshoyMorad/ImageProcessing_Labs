{
 "cells": [
  {
   "cell_type": "code",
   "execution_count": null,
   "metadata": {},
   "outputs": [],
   "source": [
    "import skimage.io as io\n",
    "\n",
    "# Show the figures / plots inside the notebook\n",
    "%matplotlib inline\n",
    "from skimage.color import rgb2gray,rgb2hsv\n",
    "import matplotlib.pyplot as plt\n",
    "import numpy as np\n",
    "from skimage.util import random_noise\n",
    "import numpy as np\n",
    "\n",
    "from skimage.exposure import histogram\n",
    "from matplotlib.pyplot import bar\n"
   ]
  },
  {
   "cell_type": "code",
   "execution_count": null,
   "metadata": {},
   "outputs": [],
   "source": [
    "\n",
    "def show_images(images,titles=None):\n",
    "    #This function is used to show image(s) with titles by sending an array of images and an array of associated titles.\n",
    "    # images[0] will be drawn with the title titles[0] if exists\n",
    "    # You aren't required to understand this function, use it as-is.\n",
    "    n_ims = len(images)\n",
    "    if titles is None: titles = ['(%d)' % i for i in range(1,n_ims + 1)]\n",
    "    fig = plt.figure()\n",
    "    n = 1\n",
    "    for image,title in zip(images,titles):\n",
    "        a = fig.add_subplot(1,n_ims,n)\n",
    "        if image.ndim == 2: \n",
    "            plt.gray()\n",
    "        plt.imshow(image)\n",
    "        a.set_title(title)\n",
    "        n += 1\n",
    "    fig.set_size_inches(np.array(fig.get_size_inches()) * n_ims)\n",
    "    plt.show()"
   ]
  },
  {
   "cell_type": "code",
   "execution_count": null,
   "metadata": {},
   "outputs": [],
   "source": [
    "# Ex: imread and imshow \n",
    "pyramids = io.imread('pyramids.jpeg')\n",
    "io.imshow(pyramids)\n",
    "io.show()\n",
    "\n"
   ]
  },
  {
   "cell_type": "code",
   "execution_count": null,
   "metadata": {},
   "outputs": [],
   "source": [
    "# Use this function to show a histogram\n",
    "# The image should be gray-scale and should range from 0 to 1\n",
    "def showHist(img,histogramImg):\n",
    "    plt.figure()\n",
    "    bar(histogramImg[1]*255, histogramImg[0], width=0.8, align='center')"
   ]
  },
  {
   "cell_type": "code",
   "execution_count": null,
   "metadata": {},
   "outputs": [],
   "source": [
    "'''\n",
    "@TODO:\n",
    "Requirement #1 \n",
    "-Read and print image 'coffee'  \n",
    "-Show and print half of the  image\n",
    "-----hint :use the attribute shape of numpy to get the image object dimentions\n",
    "'''\n"
   ]
  },
  {
   "cell_type": "code",
   "execution_count": null,
   "metadata": {},
   "outputs": [],
   "source": [
    "'''\n",
    "@TODO:\n",
    "Requirement #2 \n",
    "RGB to gray and HSV:\n",
    "1- Write a function 'gray_image' that takes an image as input , then\n",
    "    -get the gray scale of the image, then\n",
    "    -display original image and the gray scale one side by side (subplot).\n",
    "    -hint: use rgb2gray to get the graylevel of the image\n",
    "- test your function with the image 'pyramids'\n",
    "    \n",
    "2- Write a function 'HSV_image' that takes an image as input , then\n",
    "   -show the RGB image and the (3 channels of HSV image each channel in separated form ) one side by side (subplot).\n",
    "   -hint: -use rgb2hsv (to get the hsv representation of the image).\n",
    "          -To separately get the Hue, Saturation and Value channels, use hsvImg[:,:,X], \n",
    "           where hsvImg is the hsv representation of the image. \n",
    "           Hue is the first channel, Saturation is the second and value is the last channel.\n",
    "- test your function for the images in HSV Folder. And comment on the results. \n",
    "'''\n"
   ]
  },
  {
   "cell_type": "code",
   "execution_count": null,
   "metadata": {},
   "outputs": [],
   "source": [
    "def grey_image(image):\n",
    "    show_images([image, rgb2gray(image)],['image', 'greyscale'])\n"
   ]
  },
  {
   "cell_type": "code",
   "execution_count": null,
   "metadata": {},
   "outputs": [],
   "source": [
    "grey_image(pyramids)"
   ]
  },
  {
   "cell_type": "code",
   "execution_count": null,
   "metadata": {},
   "outputs": [],
   "source": [
    "\n",
    "'''HSV_image function'''\n",
    "def HSV_image(image):\n",
    "    hsv_image = rgb2hsv(image)\n",
    "    hue_image = hsv_image[:, :, 0]\n",
    "    saturation_image = hsv_image[:, :, 1]\n",
    "    value_image = hsv_image[:, :, 2]\n",
    "    show_images ([image,hue_image,saturation_image,value_image],['original image','hue channel','saturation channel','value channel'])\n",
    "    "
   ]
  },
  {
   "cell_type": "code",
   "execution_count": null,
   "metadata": {},
   "outputs": [],
   "source": [
    "HSV_image(io.imread('./hsv/ex1.png'))\n",
    "'''\n",
    "The hue channel shows dark/low values for the builing and the garden because of its yellowish and greenish color which is represented by small values in the hue specturm,\n",
    "medium values for the sky since it's blueish and stands almost in the middle of the hue specturm.\n",
    "\n",
    "The saturation channel shows very dark values for the brightest values 'closer to white' of the original image (building, sky,...) since it's represented by near-zero saturation values,\n",
    "and the opposite goes for the less bright colors (grarden, windows,...),\n",
    "\n",
    "The value channel simply shows the different amounts of black for each color.\n",
    "'''\n"
   ]
  },
  {
   "cell_type": "code",
   "execution_count": null,
   "metadata": {},
   "outputs": [],
   "source": [
    "HSV_image(io.imread('./hsv/ex2.jpg'))\n",
    "'''\n",
    "The hue channel is not very descriptive regarding this image of the amount of rapid transitions between colors and the leaves scattered everywhere.\n",
    "\n",
    "The saturation channel shows very dark values for the lighter values 'closer to white' of the original image (shadows, sky,...) \n",
    "since it's represented by near-zero saturation values,\n",
    "and the opposite goes for the less bright colors (, branches,...),\n",
    "\n",
    "The value channel simply shows the greyscale of the image. <====\n",
    "'''"
   ]
  },
  {
   "cell_type": "code",
   "execution_count": null,
   "metadata": {},
   "outputs": [],
   "source": [
    "HSV_image(io.imread('./hsv/ex3.jpg'))\n",
    "'''\n",
    "The image is split into two , the right half is very saturated which is visible in the stauration channel,\n",
    "as the saturation channel of the right half is brighter of the left half, which indicates the presence of higher staturation values.\n",
    "\n",
    "'''\n"
   ]
  },
  {
   "cell_type": "code",
   "execution_count": null,
   "metadata": {},
   "outputs": [],
   "source": [
    "'''\n",
    "Requirement 2 (Noise):\n",
    "http://scikit-image.org/docs/dev/api/skimage.util.html#skimage.util.random_noise\n",
    "\n",
    "1.For an image of your choice (the effect of noise must be obvious): \n",
    "    Read the image.\n",
    "    Convert it to greyscale.\n",
    "    Apply salt & pepper noise with \n",
    "    amount=0.05, 0.5 and 0.9\n",
    "   \n",
    "2. From the other images. Recommend one image that won’t be greatly affected by the noise and state why.    \n",
    "    '''\n",
    "\n",
    "\n",
    "'''Noise_func'''\n",
    "def noise_func(image,amount):\n",
    "    return random_noise(rgb2gray(image),mode='s&p',amount=amount)\n",
    "\n",
    "coffee_image = io.imread('./coffee.jpeg')\n",
    "show_images([coffee_image,noise_func(coffee_image,0.05),noise_func(coffee_image,0.5),noise_func(coffee_image,0.9)])\n"
   ]
  },
  {
   "cell_type": "code",
   "execution_count": null,
   "metadata": {},
   "outputs": [],
   "source": [
    "'''\n",
    "The image that won't be greatly affected by the noise filter is the one below,\n",
    "it's very random and has a huge varity of greyscale colors as displayed in the histogram below,\n",
    "therfore the naked eye cannot differentiate between the image and the noise\n",
    "'''\n",
    "image1 = io.imread('./histogram/ex1.jpg')\n",
    "# image2 = io.imread('./hsv/ex2.jpg')\n",
    "\n",
    "show_images([image1,noise_func(image1,0.05),noise_func(image1,0.5),noise_func(image1,0.9)])\n",
    "# show_images([image2,noise_func(image2,0.05),noise_func(image2,0.5),noise_func(image2,0.9)])\n"
   ]
  },
  {
   "cell_type": "code",
   "execution_count": null,
   "metadata": {},
   "outputs": [],
   "source": [
    "'''\n",
    "Requirement 3 (Histogram):\n",
    "\n",
    "1- For the given images ( in histogram folder): \n",
    "    Read the image.\n",
    "    Apply histogram and show it.\n",
    "Hint\n",
    "    A) Use histogram (image) to get histogram. Try different values for nbins (256,64,8), What does it mean?\n",
    "    B) and function(showHist) to draw it.\n",
    "** 2- Draw a grey-scale image that has uniform histogram \n",
    "same number of pixels for all intensity levels) using code only. Let the size of the image be 256x256.\n",
    "use np.ones to draw image with ones.\n",
    "'''\n"
   ]
  }
 ],
 "metadata": {
  "kernelspec": {
   "display_name": "Python 3.9.12 ('base')",
   "language": "python",
   "name": "python3"
  },
  "language_info": {
   "codemirror_mode": {
    "name": "ipython",
    "version": 3
   },
   "file_extension": ".py",
   "mimetype": "text/x-python",
   "name": "python",
   "nbconvert_exporter": "python",
   "pygments_lexer": "ipython3",
   "version": "3.9.12"
  },
  "vscode": {
   "interpreter": {
    "hash": "6aed28f9a78851c43da2b2382d0b32bbb8b6b4eda720ce0dee6d1ffb80b64718"
   }
  }
 },
 "nbformat": 4,
 "nbformat_minor": 2
}
